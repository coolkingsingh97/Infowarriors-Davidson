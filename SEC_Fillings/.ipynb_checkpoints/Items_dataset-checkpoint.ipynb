{
 "cells": [
  {
   "cell_type": "code",
   "execution_count": 1,
   "metadata": {},
   "outputs": [],
   "source": [
    "import pandas as pd\n",
    "import numpy as np\n",
    "\n"
   ]
  },
  {
   "cell_type": "code",
   "execution_count": 16,
   "metadata": {},
   "outputs": [],
   "source": [
    "import itertools\n",
    "\n",
    "companies = ['FEDEX CORP', 'Seagate Technology plc', 'ORACLE CORP',\n",
    "       'VARIAN MEDICAL SYSTEMS INC', 'FRANKLIN RESOURCES INC',\n",
    "       'GENERAL MILLS INC', 'ATMOS ENERGY CORP', 'MICROSOFT CORP',\n",
    "       'MICROCHIP TECHNOLOGY INC', 'STARBUCKS CORP',\n",
    "       'COSTCO WHOLESALE CORP /NEW', 'MARATHON OIL CORP',\n",
    "       'SILICON LABORATORIES INC', 'Walmart Inc.', 'LKQ CORP',\n",
    "       'ALLIANCE DATA SYSTEMS CORP', 'EQUINIX INC', 'GARMIN LTD',\n",
    "       'CIMAREX ENERGY CO', 'Facebook Inc', 'Nielsen Holdings plc',\n",
    "       'Phillips 66', 'Eaton Corp plc', 'Zoetis Inc.',\n",
    "       'PHILLIPS 66 PARTNERS LP', 'Alphabet Inc.', 'JPMORGAN CHASE & CO',\n",
    "       'JOHNSON & JOHNSON', 'FORD MOTOR CO', 'GENERAL DYNAMICS CORP',\n",
    "       'GENERAL ELECTRIC CO', 'GENUINE PARTS CO', 'HALLIBURTON CO',\n",
    "       'AMERICAN EXPRESS CO', 'Unum Group', 'UNITEDHEALTH GROUP INC',\n",
    "       'VERIZON COMMUNICATIONS INC', 'VENTAS INC', 'NEXTERA ENERGY INC',\n",
    "       'PEPSICO INC', 'PORTLAND GENERAL ELECTRIC CO /OR/',\n",
    "       'FREEPORT-MCMORAN INC', 'SOUTHWEST AIRLINES CO',\n",
    "       'STATE STREET CORP', 'TIFFANY & CO']\n",
    "\n",
    "items = ['Business Description', 'Risk Factors','Market Risk', 'Legal Proceedings','Control Proceedings'] *45\n",
    "\n",
    "repeat_companies = list(itertools.chain.from_iterable(itertools.repeat(x, 5) for x in companies))\n",
    "\n",
    "data = pd.DataFrame({'CompanyName': [x for x in repeat_companies], 'Sections' : [y for y in items] })"
   ]
  },
  {
   "cell_type": "code",
   "execution_count": 18,
   "metadata": {},
   "outputs": [],
   "source": [
    "data.to_excel('Items_dataset.xlsx')"
   ]
  },
  {
   "cell_type": "code",
   "execution_count": null,
   "metadata": {},
   "outputs": [],
   "source": []
  },
  {
   "cell_type": "code",
   "execution_count": null,
   "metadata": {},
   "outputs": [],
   "source": []
  }
 ],
 "metadata": {
  "kernelspec": {
   "display_name": "Python 3",
   "language": "python",
   "name": "python3"
  },
  "language_info": {
   "codemirror_mode": {
    "name": "ipython",
    "version": 3
   },
   "file_extension": ".py",
   "mimetype": "text/x-python",
   "name": "python",
   "nbconvert_exporter": "python",
   "pygments_lexer": "ipython3",
   "version": "3.7.2"
  }
 },
 "nbformat": 4,
 "nbformat_minor": 2
}
