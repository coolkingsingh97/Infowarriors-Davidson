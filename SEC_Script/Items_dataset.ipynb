{
 "cells": [
  {
   "cell_type": "code",
   "execution_count": 1,
   "metadata": {},
   "outputs": [],
   "source": [
    "import pandas as pd\n",
    "import numpy as np\n",
    "\n"
   ]
  },
  {
   "cell_type": "code",
   "execution_count": 19,
   "metadata": {},
   "outputs": [],
   "source": [
    "import itertools\n",
    "\n",
    "companies = ['fedex corp', 'seagate technology plc', 'oracle corp',\n",
    "       'varian medical systems inc', 'franklin resources inc',\n",
    "       'general mills inc', 'atmos energy corp', 'microsoft corp',\n",
    "       'microchip technology inc', 'starbucks corp', 'marathon oil corp',\n",
    "       'lkq corp', 'alliance data systems corp', 'equinix inc',\n",
    "       'garmin ltd', 'cimarex energy co', 'facebook inc',\n",
    "       'nielsen holdings plc', 'phillips 66', 'eaton corp plc',\n",
    "       'jpmorgan chase & co', 'johnson & johnson', 'ford motor co',\n",
    "       'general dynamics corp', 'general electric co', 'genuine parts co',\n",
    "       'halliburton co', 'american express co', 'unum group',\n",
    "       'unitedhealth group inc', 'verizon communications inc',\n",
    "       'ventas inc', 'nextera energy inc', 'pepsico inc',\n",
    "       'freeport-mcmoran inc', 'southwest airlines co',\n",
    "       'state street corp', 'tiffany & co']\n",
    "\n",
    "items = ['Business Description', 'Risk Factors','Market Risk', 'Legal Proceedings','Control Proceedings'] *38\n",
    "\n",
    "repeat_companies = list(itertools.chain.from_iterable(itertools.repeat(x, 5) for x in companies))\n",
    "\n",
    "data = pd.DataFrame({'CompanyName': [x for x in repeat_companies], 'Sections' : [y for y in items] })"
   ]
  },
  {
   "cell_type": "code",
   "execution_count": 20,
   "metadata": {},
   "outputs": [],
   "source": [
    "data.to_excel('Items_dataset.xlsx')"
   ]
  },
  {
   "cell_type": "code",
   "execution_count": null,
   "metadata": {},
   "outputs": [],
   "source": []
  },
  {
   "cell_type": "code",
   "execution_count": null,
   "metadata": {},
   "outputs": [],
   "source": []
  }
 ],
 "metadata": {
  "kernelspec": {
   "display_name": "Python 3",
   "language": "python",
   "name": "python3"
  },
  "language_info": {
   "codemirror_mode": {
    "name": "ipython",
    "version": 3
   },
   "file_extension": ".py",
   "mimetype": "text/x-python",
   "name": "python",
   "nbconvert_exporter": "python",
   "pygments_lexer": "ipython3",
   "version": "3.7.2"
  }
 },
 "nbformat": 4,
 "nbformat_minor": 2
}
