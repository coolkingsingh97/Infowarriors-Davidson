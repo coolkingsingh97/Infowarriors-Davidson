{
 "cells": [
  {
   "cell_type": "code",
   "execution_count": 76,
   "metadata": {},
   "outputs": [
    {
     "name": "stdout",
     "output_type": "stream",
     "text": [
      "The results with negation check:\n",
      "\n",
      "The # of positive words: 44\n",
      "The # of negative words: 17\n",
      "The list of found positive words: ['positive', 'good', 'good', 'strong', 'stronger', 'great', 'great', 'impressed', 'efficiency', 'opportunities', 'good', 'good', 'good', 'good', 'good', 'good', 'good', 'gaining', 'positive', 'strong', 'stronger', 'great', 'great', 'impressed', 'efficiency', 'opportunities', 'good', 'good', 'good', 'good', 'good', 'good', 'good', 'gaining', 'positive', 'good', 'good', 'strong', 'stronger', 'great', 'great', 'impressed', 'efficiency', 'opportunities']\n",
      "The list of found negative words: ['ill', 'question', 'question', 'great (with negation)', 'confusion', 'firing', 'ill', 'question', 'question', 'great (with negation)', 'confusion', 'firing', 'ill', 'question', 'question', 'great (with negation)', 'confusion']\n",
      "\n",
      "TEXT IS NOT BEING PRE PROCESSED\n",
      "type(text) == <class 'str'> ; Size Text: 22\n",
      "TEXT IS NOT BEING PRE PROCESSED\n",
      "type(text) == <class 'str'> ; Size Text: 18121\n",
      "<bound method ReadCalc.get_gunning_fog_index of # Sentences: 1\n",
      "# Words: 5\n",
      "# Unique Words: 5\n",
      "# Chars: 17\n",
      "# Syllables: 6\n",
      "# 3 Syllables or more: 0\n",
      "---------------------------------\n",
      "Flesch Reading Ease: 99.040\n",
      "Flesch Kincaid Grade Level: 0.520\n",
      "Coleman Liau Index: -1.774\n",
      "Gunning Fog Index: 2.000\n",
      "SMOG Index: 3.129\n",
      "ARI Index: -2.916\n",
      "LIX Index: 5.000\n",
      "Dale-Chall Score: 3.406\n",
      "Dale-Chall Known Faction: 0.800>\n"
     ]
    }
   ],
   "source": [
    "%run SentimentAnalysis_CallTranscripts.ipynb"
   ]
  },
  {
   "cell_type": "code",
   "execution_count": 77,
   "metadata": {},
   "outputs": [],
   "source": [
    "import pandas as pd\n",
    "x = pd.read_excel('test.xlsx')"
   ]
  },
  {
   "cell_type": "code",
   "execution_count": 78,
   "metadata": {},
   "outputs": [
    {
     "data": {
      "text/html": [
       "<div>\n",
       "<style scoped>\n",
       "    .dataframe tbody tr th:only-of-type {\n",
       "        vertical-align: middle;\n",
       "    }\n",
       "\n",
       "    .dataframe tbody tr th {\n",
       "        vertical-align: top;\n",
       "    }\n",
       "\n",
       "    .dataframe thead th {\n",
       "        text-align: right;\n",
       "    }\n",
       "</style>\n",
       "<table border=\"1\" class=\"dataframe\">\n",
       "  <thead>\n",
       "    <tr style=\"text-align: right;\">\n",
       "      <th></th>\n",
       "      <th>PublishedTime</th>\n",
       "      <th>Quarter</th>\n",
       "      <th>Ticker</th>\n",
       "      <th>Year</th>\n",
       "      <th>summary</th>\n",
       "      <th>title</th>\n",
       "    </tr>\n",
       "  </thead>\n",
       "  <tbody>\n",
       "    <tr>\n",
       "      <th>0</th>\n",
       "      <td>Jan. 31, 2019  5:01 PM ET</td>\n",
       "      <td>q4</td>\n",
       "      <td>ETN</td>\n",
       "      <td>2018</td>\n",
       "      <td>Eaton Corp. plc. (NYSE:ETN) Q4 2018 Results Ea...</td>\n",
       "      <td>Eaton Corp. plc (ETN) CEO Craig Arnold on Q4 2...</td>\n",
       "    </tr>\n",
       "    <tr>\n",
       "      <th>1</th>\n",
       "      <td>Jan. 30, 2019 11:34 PM ET</td>\n",
       "      <td>q4</td>\n",
       "      <td>FB</td>\n",
       "      <td>2018</td>\n",
       "      <td>Facebook, Inc. (NASDAQ:FB) Q4 2018 Earnings Co...</td>\n",
       "      <td>Facebook, Inc. (FB) CEO Mark Zuckerberg on Q4 ...</td>\n",
       "    </tr>\n",
       "  </tbody>\n",
       "</table>\n",
       "</div>"
      ],
      "text/plain": [
       "               PublishedTime Quarter Ticker  Year  \\\n",
       "0  Jan. 31, 2019  5:01 PM ET      q4    ETN  2018   \n",
       "1  Jan. 30, 2019 11:34 PM ET      q4     FB  2018   \n",
       "\n",
       "                                             summary  \\\n",
       "0  Eaton Corp. plc. (NYSE:ETN) Q4 2018 Results Ea...   \n",
       "1  Facebook, Inc. (NASDAQ:FB) Q4 2018 Earnings Co...   \n",
       "\n",
       "                                               title  \n",
       "0  Eaton Corp. plc (ETN) CEO Craig Arnold on Q4 2...  \n",
       "1  Facebook, Inc. (FB) CEO Mark Zuckerberg on Q4 ...  "
      ]
     },
     "execution_count": 78,
     "metadata": {},
     "output_type": "execute_result"
    }
   ],
   "source": [
    "x"
   ]
  },
  {
   "cell_type": "code",
   "execution_count": 79,
   "metadata": {},
   "outputs": [],
   "source": [
    "# y = tone_count_with_negation_check(x['summary'][0])"
   ]
  },
  {
   "cell_type": "code",
   "execution_count": 80,
   "metadata": {},
   "outputs": [
    {
     "name": "stdout",
     "output_type": "stream",
     "text": [
      "The results with negation check:\n",
      "\n",
      "The # of positive words: 107\n",
      "The # of negative words: 48\n",
      "The list of found positive words: ['opportunity', 'pleased', 'strong', 'strong', 'strong', 'pleased', 'strong', 'advantage', 'achieve', 'advantage', 'opportunities', 'strong', 'benefit', 'strong', 'highest', 'positive', 'excellent', 'strengthen', 'strength', 'stronger', 'strong', 'strong', 'strong', 'strong', 'strong', 'strength', 'strength', 'improve', 'good', 'strong', 'progress', 'progress', 'strength', 'strong', 'favorable', 'pleased', 'strong', 'despite', 'pleased', 'optimistic', 'opportunities', 'excited', 'opportunity', 'strong', 'strong', 'progress', 'improved', 'good', 'progress', 'enhancing', 'improvement', 'stronger', 'strength', 'strong', 'strength', 'strong', 'strength', 'strong', 'strength', 'strong', 'improvement', 'improvement', 'strong', 'strong', 'good', 'strong', 'despite', 'good', 'positive', 'strong', 'good', 'good', 'strong', 'stronger', 'good', 'good', 'strong', 'strength', 'good', 'strong', 'good', 'strong', 'great', 'strong', 'gaining', 'good', 'good', 'strength', 'better', 'strongest', 'strength', 'strength', 'strong', 'strong', 'strong', 'good', 'good', 'strong', 'despite', 'good', 'great', 'positive', 'better', 'benefit', 'benefiting', 'strong', 'good']\n",
      "The list of found negative words: ['questions', 'questions', 'recall', 'weak', 'unfavorable', 'negative', 'divestiture', 'against', 'recall', 'negative', 'recall', 'weakness', 'difficult', 'firing', 'negative', 'recall', 'declines', 'weakness', 'negative', 'unexpected', 'declined', 'recall', 'harsh', 'hazardous', 'negative', 'questions', 'questions', 'question', 'questions', 'question', 'question', 'slowdown', 'question', 'concerns', 'slowdown', 'opposed', 'question', 'question', 'question', 'disputes', 'slowdown', 'slowdown', 'question', 'slowdown', 'question', 'question', 'concerns', 'question']\n",
      "\n",
      "The results with negation check:\n",
      "\n",
      "The # of positive words: 132\n",
      "The # of negative words: 41\n",
      "The list of found positive words: ['good', 'opportunity', 'good', 'opportunities', 'integrity', 'progress', 'strong', 'profitability', 'improve', 'progress', 'progress', 'improve', 'improvements', 'progress', 'proactively', 'better', 'transparency', 'proactively', 'progress', 'improve', 'improvements', 'better', 'improvements', 'excited', 'positive', 'positively', 'better', 'pleased', 'enjoying', 'able', 'strong', 'stronger', 'strong', 'able', 'progress', 'good', 'best', 'good', 'positive', 'strong', 'good', 'strengthened', 'better', 'transparency', 'progress', 'better', 'better', 'excited', 'opportunities', 'strength', 'successful', 'opportunity', 'easier', 'best', 'great', 'easily', 'opportunity', 'good', 'better', 'improving', 'effective', 'opportunities', 'boost', 'improving', 'succeed', 'better', 'progress', 'better', 'good', 'strong', 'good', 'best', 'better', 'strongest', 'innovation', 'confident', 'progress', 'improve', 'better', 'better', 'opportunity', 'opportunity', 'strong', 'pleased', 'benefit', 'strong', 'benefited', 'strong', 'exciting', 'opportunities', 'opportunity', 'opportunity', 'enabling', 'good', 'good', 'excited', 'improvements', 'great', 'successes', 'easier', 'better', 'easier', 'best', 'easy', 'best', 'best', 'benefit', 'attractive', 'opportunity', 'happy', 'opportunities', 'benefited', 'strong', 'improve', 'improve', 'excited', 'good', 'benefit', 'excited', 'opportunity', 'able', 'able', 'better', 'opportunity', 'able', 'easily', 'improving', 'improve', 'opportunity', 'strong', 'best', 'able']\n",
      "The list of found negative words: ['challenges', 'preventing', 'harm', 'misinformation', 'harmful', 'violating', 'questions', 'question', 'default', 'displace', 'difficult', 'challenges', 'misplaced', 'scrutinized', 'mistakes', 'threats', 'force', 'challenging', 'against', 'interference', 'violate', 'challenging', 'challenges', 'disclose', 'weakness', 'challenges', 'decline', 'questions', 'question', 'question', 'question', 'question', 'question', 'challenges', 'question', 'default', 'questions', 'question', 'challenge', 'shutdown', 'slowdown']\n",
      "\n"
     ]
    }
   ],
   "source": [
    "x['tone1'] = x['summary'].apply(tone_count_with_negation_check)"
   ]
  },
  {
   "cell_type": "code",
   "execution_count": 81,
   "metadata": {},
   "outputs": [],
   "source": [
    "# def fab(row):                                                  \n",
    "#     return row['A'] * row['B'], row['A'] + row['B']\n",
    "\n",
    "# df['newcolumn'], df['newcolumn2'] = zip(*df.apply(fab, axis=1))\n",
    "\n",
    "x = pd.concat([x.drop(['tone1'],axis=1),\n",
    "           x['tone1'].apply(pd.Series).rename(columns={0:'total_words',1:'pos_word_count',2:'neg_word_count', \n",
    "                                                       3:'pos_words', 4:'neg_words'})],axis=1)"
   ]
  },
  {
   "cell_type": "code",
   "execution_count": 82,
   "metadata": {},
   "outputs": [],
   "source": [
    "\n",
    "def get_GF_index(text):\n",
    "    calc_1 = readcalc.ReadCalc(text)\n",
    "    gf = calc_1.get_gunning_fog_index()\n",
    "    return gf"
   ]
  },
  {
   "cell_type": "code",
   "execution_count": 83,
   "metadata": {},
   "outputs": [
    {
     "name": "stdout",
     "output_type": "stream",
     "text": [
      "TEXT IS NOT BEING PRE PROCESSED\n",
      "type(text) == <class 'str'> ; Size Text: 32767\n",
      "TEXT IS NOT BEING PRE PROCESSED\n",
      "type(text) == <class 'str'> ; Size Text: 32767\n"
     ]
    }
   ],
   "source": [
    "x['GunningFogIndex'] = x['summary'].apply(get_GF_index)"
   ]
  },
  {
   "cell_type": "code",
   "execution_count": 87,
   "metadata": {},
   "outputs": [],
   "source": [
    "# import pandas as pd\n",
    "# t = pd.DataFrame([[1,'ougfigd_sgfjhb'],[2, 'akavfkh_abfka']], columns=['num','test'])\n",
    "\n",
    "x = x.drop(['summary'],axis=1)"
   ]
  },
  {
   "cell_type": "code",
   "execution_count": 88,
   "metadata": {},
   "outputs": [
    {
     "data": {
      "text/plain": [
       "0    16.948467\n",
       "1    15.136626\n",
       "Name: GunningFogIndex, dtype: float64"
      ]
     },
     "execution_count": 88,
     "metadata": {},
     "output_type": "execute_result"
    }
   ],
   "source": [
    "x['GunningFogIndex']"
   ]
  },
  {
   "cell_type": "code",
   "execution_count": 89,
   "metadata": {},
   "outputs": [],
   "source": [
    "x.to_excel('SentimentDataframe_nes.xlsx')"
   ]
  },
  {
   "cell_type": "code",
   "execution_count": 27,
   "metadata": {},
   "outputs": [],
   "source": [
    "# # new data frame with split value columns \n",
    "# new = t[\"test\"].str.split(\"_\", n = 1, expand = True) \n",
    "  \n",
    "# # making separate first name column from new data frame \n",
    "# t[\"First Name\"]= new[0] \n",
    "  \n",
    "# # making separate last name column from new data frame \n",
    "# t[\"Last Name\"]= new[1] \n",
    "  \n",
    "# # Dropping old Name columns \n",
    "# t.drop(columns =[\"test\"], inplace = True) "
   ]
  },
  {
   "cell_type": "code",
   "execution_count": 28,
   "metadata": {},
   "outputs": [
    {
     "data": {
      "text/html": [
       "<div>\n",
       "<style scoped>\n",
       "    .dataframe tbody tr th:only-of-type {\n",
       "        vertical-align: middle;\n",
       "    }\n",
       "\n",
       "    .dataframe tbody tr th {\n",
       "        vertical-align: top;\n",
       "    }\n",
       "\n",
       "    .dataframe thead th {\n",
       "        text-align: right;\n",
       "    }\n",
       "</style>\n",
       "<table border=\"1\" class=\"dataframe\">\n",
       "  <thead>\n",
       "    <tr style=\"text-align: right;\">\n",
       "      <th></th>\n",
       "      <th>num</th>\n",
       "      <th>First Name</th>\n",
       "      <th>Last Name</th>\n",
       "    </tr>\n",
       "  </thead>\n",
       "  <tbody>\n",
       "    <tr>\n",
       "      <th>0</th>\n",
       "      <td>1</td>\n",
       "      <td>ougfigd</td>\n",
       "      <td>sgfjhb</td>\n",
       "    </tr>\n",
       "    <tr>\n",
       "      <th>1</th>\n",
       "      <td>2</td>\n",
       "      <td>akavfkh</td>\n",
       "      <td>abfka</td>\n",
       "    </tr>\n",
       "  </tbody>\n",
       "</table>\n",
       "</div>"
      ],
      "text/plain": [
       "   num First Name Last Name\n",
       "0    1    ougfigd    sgfjhb\n",
       "1    2    akavfkh     abfka"
      ]
     },
     "execution_count": 28,
     "metadata": {},
     "output_type": "execute_result"
    }
   ],
   "source": [
    "# t"
   ]
  },
  {
   "cell_type": "code",
   "execution_count": null,
   "metadata": {},
   "outputs": [],
   "source": []
  }
 ],
 "metadata": {
  "kernelspec": {
   "display_name": "Python 3",
   "language": "python",
   "name": "python3"
  },
  "language_info": {
   "codemirror_mode": {
    "name": "ipython",
    "version": 3
   },
   "file_extension": ".py",
   "mimetype": "text/x-python",
   "name": "python",
   "nbconvert_exporter": "python",
   "pygments_lexer": "ipython3",
   "version": "3.7.0"
  }
 },
 "nbformat": 4,
 "nbformat_minor": 2
}
