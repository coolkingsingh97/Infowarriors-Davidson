{
 "cells": [
  {
   "cell_type": "code",
   "execution_count": 53,
   "metadata": {},
   "outputs": [],
   "source": [
    "import urllib, sys\n",
    "from bs4 import BeautifulSoup\n",
    "import re\n",
    "from collections import Counter\n",
    "import time\n",
    "import csv\n",
    "import pandas as pd\n",
    "from urllib.error import HTTPError\n"
   ]
  },
  {
   "cell_type": "code",
   "execution_count": 54,
   "metadata": {},
   "outputs": [],
   "source": [
    "tickerList = pd.read_excel('../CallTranscript_DownloadTemplate.xlsx')"
   ]
  },
  {
   "cell_type": "code",
   "execution_count": 41,
   "metadata": {},
   "outputs": [],
   "source": [
    "# wordlist = ['transcript']\n",
    "# wordlist.extend([str(tickerList['Year'][0]), str(tickerList['Quarter'][0])])\n",
    "# wordlist"
   ]
  },
  {
   "cell_type": "code",
   "execution_count": 55,
   "metadata": {},
   "outputs": [],
   "source": [
    "wordlist = ['transcript', '2019', 'q1']"
   ]
  },
  {
   "cell_type": "code",
   "execution_count": 56,
   "metadata": {},
   "outputs": [],
   "source": [
    "symbol_list = list(tickerList['Ticker'])"
   ]
  },
  {
   "cell_type": "code",
   "execution_count": 68,
   "metadata": {},
   "outputs": [],
   "source": [
    "# symbol_list= ['ETN', 'FB']"
   ]
  },
  {
   "cell_type": "code",
   "execution_count": 60,
   "metadata": {},
   "outputs": [],
   "source": [
    "def scrape_data_df(symbol_list,wordlist):\n",
    "    \n",
    "#''GE','PEP', 'MHCP',STT\n",
    "    #symbol_list=['GOOG', 'GE','ETN','PEP','KHC','FB','MCHP','SLAB','JPM','STT']\n",
    "\n",
    "    #creating a list to store the data for different symbols\n",
    "    temp_list = []\n",
    "   \n",
    "\n",
    "    for symbol in symbol_list:\n",
    "\n",
    "        site='http://seekingalpha.com/symbol/'+symbol+'/earnings/transcripts'\n",
    "            #     print(symbol)\n",
    "        hdr = {'User-Agent': 'Mozilla/5.0 (X11; Linux x86_64) AppleWebKit/537.11 (KHTML, like Gecko) Chrome/23.0.1271.64 Safari/537.11',\n",
    "                   'Accept': 'text/html,application/xhtml+xml,application/xml;q=0.9,*/*;q=0.8',\n",
    "                   'Accept-Charset': 'ISO-8859-1,utf-8;q=0.7,*;q=0.3',\n",
    "                   'Accept-Encoding': 'none',\n",
    "                   'Accept-Language': 'en-US,en;q=0.8',\n",
    "                   'Connection': 'keep-alive'} \n",
    "        \n",
    "        try:\n",
    "            \n",
    "            pageReq=urllib.request.Request(site,headers=hdr) \n",
    "            page=urllib.request.urlopen(pageReq).read()\n",
    "            soup=BeautifulSoup(page,'lxml')\n",
    "\n",
    "            for link in soup.find_all('a'):\n",
    "\n",
    "                x=link.get('href')\n",
    "                if isinstance(x,str):\n",
    "\n",
    "                            # Parameterization Pending\n",
    "                            #wordlist=['transcript','2018','q3']\n",
    "\n",
    "                    if all(x.find(s)>=0 for s in wordlist):\n",
    "                        parse_site='http://seekingalpha.com/'+x\n",
    "                        parse_site='http://seekingalpha.com/'+x+'?part=single'\n",
    "                        print('Extracting Call Transcripts from: ' + symbol)\n",
    "                        print(parse_site)\n",
    "\n",
    "                                # Open the URL as Browser, not as python urllib\n",
    "                        pageAct=urllib.request.Request(parse_site,headers=hdr) \n",
    "                        infileAct=urllib.request.urlopen(pageAct).read()\n",
    "\n",
    "                        soup = BeautifulSoup(infileAct, 'html5lib') \n",
    "\n",
    "                                #creating an empty list\n",
    "                        text = []\n",
    "\n",
    "                        try:\n",
    "                            #saving the scraped data in a list for all the symbols    \n",
    "                            text.append(soup.find_all('div', attrs = {'id':'a-body'}))\n",
    "\n",
    "                        except HTTPError as e:\n",
    "                                print('Error Code', e.code)\n",
    "                                \n",
    "                        ######################################################################\n",
    "                        \n",
    "#                         try:\n",
    "#                         # Get content from article body only\n",
    "#                             text_tscript = soup.findAll('div', attrs = {'id':'a-body'})\n",
    "#                         # print(text)\n",
    "\n",
    "#                             for p in text_tscript:\n",
    "#                             # Extract all the text from within the p tags\n",
    "# #                             print(p.text)\n",
    "#                                 transcriptText += p.text_tscript\n",
    "                        \n",
    "#                         except HTTPError as e:\n",
    "#                             print('Error Code', e.code)\n",
    "#                         transcriptText.replace('\\n', ' ')\n",
    "\n",
    "                               #looping through data for different symbols in the 'text' list\n",
    "                        for elements in text:\n",
    "\n",
    "                                    #creating an empty dictionary\n",
    "                            df_dict = {}\n",
    "\n",
    "                                    #appending the data of different symbols to dictionary\n",
    "                            df_dict['Ticker'] = symbol\n",
    "                            df_dict['Year'] = wordlist[1]\n",
    "                            df_dict['Quarter'] = wordlist[2]\n",
    "                            df_dict['PublishedTime'] = \"\".join([time.text for time in soup.find_all(\"time\", itemprop=\"datePublished\")])\n",
    "                            df_dict['summary'] = \"\".join([texts.text for texts in soup.find_all(\"p\")])\n",
    "                            df_dict['title'] = \"\".join([title.text for title in soup.find_all(\"title\")])\n",
    "                            df_dict['CallTranscriptID'] = 'CT_' +symbol + '_' + wordlist[1] + '_' + wordlist[2]\n",
    "                            \n",
    "\n",
    "                                    #converting the dictionary to list \n",
    "                            temp_list.append(df_dict)\n",
    "                            \n",
    "        except HTTPError as e:\n",
    "            print('Error code:',e.code)\n",
    "        time.sleep(250)\n",
    "\n",
    "            #saving the list as a dataframe               \n",
    "    df2= pd.DataFrame(temp_list)\n",
    "\n",
    "            #coverting the dataframe output to a csv file\n",
    "#     df2.to_csv(\"output.csv\", index=False)\n",
    "#     df2.to_excel('test.xlsx', index=False, header=True)\n",
    "    return df2\n",
    "\n",
    "\n",
    "            #increase the time depending on the symbols we are downloading the data for    \n",
    "    #return df2"
   ]
  },
  {
   "cell_type": "code",
   "execution_count": 61,
   "metadata": {},
   "outputs": [],
   "source": [
    "# ,'ETN','PEP','KHC','FB','MCHP','SLAB','JPM','STT'\n",
    "all_data = scrape_data_df(symbol_list,wordlist)\n"
   ]
  },
  {
   "cell_type": "code",
   "execution_count": 62,
   "metadata": {},
   "outputs": [
    {
     "data": {
      "text/html": [
       "<div>\n",
       "<style scoped>\n",
       "    .dataframe tbody tr th:only-of-type {\n",
       "        vertical-align: middle;\n",
       "    }\n",
       "\n",
       "    .dataframe tbody tr th {\n",
       "        vertical-align: top;\n",
       "    }\n",
       "\n",
       "    .dataframe thead th {\n",
       "        text-align: right;\n",
       "    }\n",
       "</style>\n",
       "<table border=\"1\" class=\"dataframe\">\n",
       "  <thead>\n",
       "    <tr style=\"text-align: right;\">\n",
       "      <th></th>\n",
       "    </tr>\n",
       "  </thead>\n",
       "  <tbody>\n",
       "  </tbody>\n",
       "</table>\n",
       "</div>"
      ],
      "text/plain": [
       "Empty DataFrame\n",
       "Columns: []\n",
       "Index: []"
      ]
     },
     "execution_count": 62,
     "metadata": {},
     "output_type": "execute_result"
    }
   ],
   "source": [
    "all_data"
   ]
  },
  {
   "cell_type": "code",
   "execution_count": 51,
   "metadata": {},
   "outputs": [],
   "source": [
    "def append_df_to_excel(df, excel_path):\n",
    "    df_excel = pd.read_excel(excel_path)\n",
    "    result = pd.concat([df_excel, df], ignore_index=True)\n",
    "    result.to_excel(excel_path, index=False)"
   ]
  },
  {
   "cell_type": "code",
   "execution_count": 52,
   "metadata": {},
   "outputs": [],
   "source": [
    "import pandas as pd\n",
    "\n",
    "append_df_to_excel(all_data, 'test.xlsx')"
   ]
  },
  {
   "cell_type": "code",
   "execution_count": null,
   "metadata": {},
   "outputs": [],
   "source": []
  },
  {
   "cell_type": "code",
   "execution_count": null,
   "metadata": {},
   "outputs": [],
   "source": []
  }
 ],
 "metadata": {
  "kernelspec": {
   "display_name": "Python 3",
   "language": "python",
   "name": "python3"
  },
  "language_info": {
   "codemirror_mode": {
    "name": "ipython",
    "version": 3
   },
   "file_extension": ".py",
   "mimetype": "text/x-python",
   "name": "python",
   "nbconvert_exporter": "python",
   "pygments_lexer": "ipython3",
   "version": "3.6.4"
  }
 },
 "nbformat": 4,
 "nbformat_minor": 2
}
